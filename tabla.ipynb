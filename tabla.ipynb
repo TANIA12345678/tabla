{
 "cells": [
  {
   "cell_type": "code",
   "execution_count": 6,
   "metadata": {},
   "outputs": [
    {
     "name": "stdout",
     "output_type": "stream",
     "text": [
      " 5 * 1= 5\n",
      " 5 * 2= 10\n",
      " 5 * 3= 15\n",
      " 5 * 4= 20\n",
      " 5 * 5= 25\n",
      " 5 * 6= 30\n",
      " 5 * 7= 35\n",
      " 5 * 8= 40\n",
      " 5 * 9= 45\n",
      " 5 * 10= 50\n"
     ]
    }
   ],
   "source": [
    "numero = int(input('ingrese el numero'))  \n",
    "multiplicador = 1       \n",
    "\n",
    "while multiplicador <= 10:\n",
    "    resultado = numero * multiplicador\n",
    "    print(f' {numero} * {multiplicador}= {resultado}')\n",
    "    multiplicador +=1"
   ]
  }
 ],
 "metadata": {
  "kernelspec": {
   "display_name": "Python 3",
   "language": "python",
   "name": "python3"
  },
  "language_info": {
   "codemirror_mode": {
    "name": "ipython",
    "version": 3
   },
   "file_extension": ".py",
   "mimetype": "text/x-python",
   "name": "python",
   "nbconvert_exporter": "python",
   "pygments_lexer": "ipython3",
   "version": "3.12.3"
  }
 },
 "nbformat": 4,
 "nbformat_minor": 2
}
